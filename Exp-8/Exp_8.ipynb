{
  "nbformat": 4,
  "nbformat_minor": 0,
  "metadata": {
    "colab": {
      "provenance": [],
      "authorship_tag": "ABX9TyMclPtN/R27MMQEL9swUfj/",
      "include_colab_link": true
    },
    "kernelspec": {
      "name": "python3",
      "display_name": "Python 3"
    },
    "language_info": {
      "name": "python"
    }
  },
  "cells": [
    {
      "cell_type": "markdown",
      "metadata": {
        "id": "view-in-github",
        "colab_type": "text"
      },
      "source": [
        "<a href=\"https://colab.research.google.com/github/adityavardhansharma/COM-611_2021a1r031/blob/main/Exp-8/Exp_8.ipynb\" target=\"_parent\"><img src=\"https://colab.research.google.com/assets/colab-badge.svg\" alt=\"Open In Colab\"/></a>"
      ]
    },
    {
      "cell_type": "code",
      "execution_count": null,
      "metadata": {
        "id": "dSGNntlbBiC9"
      },
      "outputs": [],
      "source": [
        "# Implement the image processing basics: Converting Image to RGB to BGR and to Grayscale, Create a White/Black Color image, how to draw shapes on image\n",
        "import cv2\n",
        "import numpy as np"
      ]
    },
    {
      "cell_type": "code",
      "source": [
        "def convert_to_grayscale(image_path):\n",
        "  image = cv2.imread(image_path)\n",
        "  grayscale_image = cv2.cvtColor(image, cv2.COLOR_BGR2GRAY)\n",
        "\n",
        "  cv2.imshow(\"Original Image\", image)\n",
        "  cv2.imshow(\"Grayscale Image\", grayscale_image)\n",
        "  cv2.waitKey(0)\n",
        "  cv2.destroyAllWindows()\n"
      ],
      "metadata": {
        "id": "Pzcuy52-Bmdq"
      },
      "execution_count": null,
      "outputs": []
    },
    {
      "cell_type": "code",
      "source": [
        "def convert_to_bgr(image_path, output_path):\n",
        "  image = cv2.imread(image_path)\n",
        "  bgr_image = cv2.cvtColor(image, cv2.COLOR_RGB2BGR)\n",
        "\n",
        "  cv2.imshow(\"Original Image\", image)\n",
        "  cv2.imshow(\"BGR Image\", bgr_image)\n",
        "  cv2.waitKey(0)\n",
        "  cv2.destroyAllWindows()\n",
        "\n",
        "  cv2.imwrite(output_path, bgr_image)\n",
        "  print(\"BGR image saved to:\", output_path)\n",
        "\n"
      ],
      "metadata": {
        "id": "6Vxj4ajjBmbC"
      },
      "execution_count": null,
      "outputs": []
    },
    {
      "cell_type": "code",
      "source": [
        "def convert_bgr_to_rgb(output_path):\n",
        "  image_bgr = cv2.imread(output_path)\n",
        "  image_rgb = cv2.cvtColor(image_bgr, cv2.COLOR_BGR2RGB)\n",
        "\n",
        "  cv2.imshow(\"BGR Image\", image_bgr)\n",
        "  cv2.imshow(\"RGB Image\", image_rgb)\n",
        "  cv2.waitKey(0)\n",
        "  cv2.destroyAllWindows()"
      ],
      "metadata": {
        "id": "3yYEy7eKBmYv"
      },
      "execution_count": null,
      "outputs": []
    },
    {
      "cell_type": "code",
      "source": [
        "image_path = \"C:\\\\Users\\\\asus\\\\OneDrive\\\\Desktop\\\\image.jpg\"\n",
        "output_path = \"C:\\\\Users\\\\asus\\\\OneDrive\\\\Desktop\\\\image_bgr.jpg\"\n"
      ],
      "metadata": {
        "id": "XQpqWwyvBmWQ"
      },
      "execution_count": null,
      "outputs": []
    },
    {
      "cell_type": "code",
      "source": [
        "convert_to_grayscale(image_path)"
      ],
      "metadata": {
        "id": "DOztXar0BmT6"
      },
      "execution_count": null,
      "outputs": []
    },
    {
      "cell_type": "code",
      "source": [
        "convert_to_bgr(image_path, output_path)"
      ],
      "metadata": {
        "id": "2mmiKq5JBmRL"
      },
      "execution_count": null,
      "outputs": []
    },
    {
      "cell_type": "code",
      "source": [
        "convert_bgr_to_rgb(output_path)"
      ],
      "metadata": {
        "id": "v96H3s7FBmOv"
      },
      "execution_count": null,
      "outputs": []
    },
    {
      "cell_type": "code",
      "source": [
        "def create_white_image(width, height):\n",
        "  white_image = np.ones((height, width, 3), dtype=np.uint8) * 255\n",
        "\n",
        "  cv2.imshow(\"White Image\", white_image)\n",
        "  cv2.waitKey(0)\n",
        "  cv2.destroyAllWindows()\n",
        "\n",
        ""
      ],
      "metadata": {
        "id": "H65uVmGQBmMS"
      },
      "execution_count": null,
      "outputs": []
    },
    {
      "cell_type": "code",
      "source": [
        "def create_black_image(width, height):\n",
        "  black_image = np.zeros((height, width, 3), dtype=np.uint8)\n",
        "\n",
        "  cv2.imshow(\"Black Image\", black_image)\n",
        "  cv2.waitKey(0)\n",
        "  cv2.destroyAllWindows()"
      ],
      "metadata": {
        "id": "bX85Q2Q9BmIl"
      },
      "execution_count": null,
      "outputs": []
    },
    {
      "cell_type": "code",
      "source": [
        "width, height = 800,600"
      ],
      "metadata": {
        "id": "IAeokX-fB4Mc"
      },
      "execution_count": null,
      "outputs": []
    },
    {
      "cell_type": "code",
      "source": [
        "create_white_image(width,height)"
      ],
      "metadata": {
        "id": "KJUNvXwyB4I0"
      },
      "execution_count": null,
      "outputs": []
    },
    {
      "cell_type": "code",
      "source": [
        "create_black_image(width,height)"
      ],
      "metadata": {
        "id": "59_BX_TPDKGH"
      },
      "execution_count": null,
      "outputs": []
    },
    {
      "cell_type": "code",
      "source": [
        "image_path = \"C:\\\\Users\\\\asus\\\\OneDrive\\\\Desktop\\\\image.jpg\"\n",
        "draw_shapes_on_image(image_path)"
      ],
      "metadata": {
        "id": "nBxt9atVDJ_D"
      },
      "execution_count": null,
      "outputs": []
    }
  ]
}