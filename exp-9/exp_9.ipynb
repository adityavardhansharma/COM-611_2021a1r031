{
  "cells": [
    {
      "cell_type": "markdown",
      "metadata": {
        "id": "view-in-github",
        "colab_type": "text"
      },
      "source": [
        "<a href=\"https://colab.research.google.com/github/adityavardhansharma/COM-611_2021a1r031/blob/main/exp-9/exp_9.ipynb\" target=\"_parent\"><img src=\"https://colab.research.google.com/assets/colab-badge.svg\" alt=\"Open In Colab\"/></a>"
      ]
    },
    {
      "cell_type": "markdown",
      "id": "737e31c9",
      "metadata": {
        "id": "737e31c9"
      },
      "source": [
        "# Implement the detection of Eye or face or Smile from the Image"
      ]
    },
    {
      "cell_type": "code",
      "execution_count": null,
      "id": "eb9869b7",
      "metadata": {
        "id": "eb9869b7"
      },
      "outputs": [],
      "source": [
        "import numpy as np\n",
        "import cv2"
      ]
    },
    {
      "cell_type": "markdown",
      "id": "0a2926f1",
      "metadata": {
        "id": "0a2926f1"
      },
      "source": [
        "# face_cascade=cv2.CascadeClassifier(cv2.data.haarcascades+'haarcascade_frontalface_default.xml'):"
      ]
    },
    {
      "cell_type": "code",
      "execution_count": null,
      "id": "0a6b9d7a",
      "metadata": {
        "id": "0a6b9d7a"
      },
      "outputs": [],
      "source": [
        "# load models\n",
        "face_cascade=cv2.CascadeClassifier(cv2.data.haarcascades + 'haarcascade_frontalface_default.xml')\n",
        "face_cascade=cv2.CascadeClassifier(cv2.data.haarcascades + 'haarcascade_eye.xml')\n",
        "smile_cascade=cv2.CascadeClassifier(cv2.data.haarcascades + 'haarcascade_smile.xml')"
      ]
    },
    {
      "cell_type": "markdown",
      "id": "0aed8a3f",
      "metadata": {
        "id": "0aed8a3f"
      },
      "source": [
        "# Example 1"
      ]
    },
    {
      "cell_type": "code",
      "execution_count": null,
      "id": "6d0b91c2",
      "metadata": {
        "id": "6d0b91c2"
      },
      "outputs": [],
      "source": [
        "img=cv2.imread(\"C:\\\\Users\\\\akhil\\\\OneDrive\\\\Desktop\\\\g.jpg\")\n",
        "cv2.imshow(\"Image\",img)\n",
        "cv2.waitKey(0)\n",
        "cv2.destroyAllWindows()"
      ]
    },
    {
      "cell_type": "code",
      "execution_count": null,
      "id": "3638ec3b",
      "metadata": {
        "id": "3638ec3b"
      },
      "outputs": [],
      "source": [
        "gray=cv2.cvtColor(img,cv2.COLOR_BGR2GRAY)\n",
        "cv2.imshow(\"Grayscale Image\",gray)\n",
        "cv2.waitKey(0)\n",
        "cv2.destroyAllWindows()"
      ]
    },
    {
      "cell_type": "code",
      "execution_count": null,
      "id": "1df3d4d8",
      "metadata": {
        "id": "1df3d4d8"
      },
      "outputs": [],
      "source": [
        "# detect\n",
        "face_cascade=cv2.CascadeClassifier(cv2.data.haarcascades + 'haarcascade_frontalface_default.xml')\n",
        "eye_cascade=cv2.CascadeClassifier(cv2.data.haarcascades + 'haarcascade_eye.xml')\n",
        "smile_cascade=cv2.CascadeClassifier(cv2.data.haarcascades + 'haarcascade_smile.xml')\n",
        "faces=face_cascade.detectMultiScale(gray,1.3,5)\n",
        "\n",
        "# draw bounding boxes for each face detected\n",
        "for(x,y,w,h) in faces:\n",
        "    img=cv2.rectangle(img,(x,y),(x+w,y+h),(255,0,0),2)\n",
        "    roi_gray=gray[y:y+h,x:x+w]\n",
        "    roi_color=img[y:y+h,x:x+w]\n",
        "    eyes=eye_cascade.detectMultiScale(roi_gray)\n",
        "    for(ex,ey,ew,eh) in eyes:\n",
        "        cv2.rectangle(roi_color,(ex,ey),(ex+ew,ey+eh),(0,255,0),2)\n",
        "    smiles=smile_cascade.detectMultiScale(roi_gray)\n",
        "    for(sx,sy,sw,sh) in smiles:\n",
        "        cv2.rectangle(roi_color,(sx,sy),((sx+sw),(sy+sh)),(0,0,255),2)\n",
        "\n",
        ""
      ]
    },
    {
      "cell_type": "code",
      "execution_count": null,
      "id": "3007bbac",
      "metadata": {
        "id": "3007bbac"
      },
      "outputs": [],
      "source": [
        "cv2.imshow(\"Image\",img)\n",
        "cv2.waitKey(0)\n",
        "cv2.destroyAllWindows()"
      ]
    },
    {
      "cell_type": "code",
      "execution_count": null,
      "id": "f1d45350",
      "metadata": {
        "id": "f1d45350"
      },
      "outputs": [],
      "source": []
    }
  ],
  "metadata": {
    "kernelspec": {
      "display_name": "Python 3 (ipykernel)",
      "language": "python",
      "name": "python3"
    },
    "language_info": {
      "codemirror_mode": {
        "name": "ipython",
        "version": 3
      },
      "file_extension": ".py",
      "mimetype": "text/x-python",
      "name": "python",
      "nbconvert_exporter": "python",
      "pygments_lexer": "ipython3",
      "version": "3.10.0"
    },
    "colab": {
      "provenance": [],
      "include_colab_link": true
    }
  },
  "nbformat": 4,
  "nbformat_minor": 5
}