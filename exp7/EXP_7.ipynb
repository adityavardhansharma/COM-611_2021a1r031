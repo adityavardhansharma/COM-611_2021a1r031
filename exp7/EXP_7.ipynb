{
  "nbformat": 4,
  "nbformat_minor": 0,
  "metadata": {
    "colab": {
      "provenance": []
    },
    "kernelspec": {
      "name": "python3",
      "display_name": "Python 3"
    },
    "language_info": {
      "name": "python"
    }
  },
  "cells": [
    {
      "cell_type": "markdown",
      "source": [
        "**EXPERIMENT 7**"
      ],
      "metadata": {
        "id": "jGKq2E7WJ42u"
      }
    },
    {
      "cell_type": "markdown",
      "source": [
        "1. Import the necessary libraries:\n",
        "\n",
        "BeautifulSoup from the bs4 module for parsing HTML content.\n",
        "requests for sending HTTP requests.\n",
        "\n",
        "2. Define the function get title(soup) to extract the product ille from the webpage.\n",
        "\n",
        "Use soup.find() to find the element with the specified attributes (in this case, span with id=\"productiitle\").\n",
        "\n",
        "Retrieve the text value using get text(strip-True) and assign it to the title string variable\n",
        "\n",
        "Handle the AttributeError in case the element is not found and set title string to an empty string\n",
        "\n",
        "3. Detine the function get price(soup) to extract the product price.\n",
        "\n",
        "Similar to the get title function, find the element using soup.find() with the specified atributes"
      ],
      "metadata": {
        "id": "gh8kOpk3Lt8Y"
      }
    },
    {
      "cell_type": "code",
      "execution_count": 1,
      "metadata": {
        "id": "JlnwgoSqIZmL",
        "colab": {
          "base_uri": "https://localhost:8080/"
        },
        "outputId": "271d4117-2202-4e71-d187-94a6e5e92356"
      },
      "outputs": [
        {
          "output_type": "stream",
          "name": "stdout",
          "text": [
            "Product Title= Fossil Bronson Analog Black Dial Men's Watch-ME3218\n",
            "Product Price= ₹21,994.00\n",
            "Product Rating= 3.8 out of 5 stars\n",
            "Number of Product reviews= 35 ratings\n",
            "Availabiity= In stock\n"
          ]
        }
      ],
      "source": [
        "from bs4 import BeautifulSoup\n",
        "import requests\n",
        "\n",
        "# Function to extract Product Title\n",
        "def get_title(soup):\n",
        "    try:\n",
        "        title= soup.find(\"span\", attrs={\"id\":\"productTitle\"})\n",
        "        title_string=title.get_text(strip=True)\n",
        "    except AttributeError:\n",
        "        title_string=\"\"\n",
        "    return title_string\n",
        "# Function to extract Product Price\n",
        "def get_price(soup):\n",
        "    try:\n",
        "        price=soup.find(\"span\",attrs={\"class\":\"a-offscreen\"})\n",
        "        if price is not None:\n",
        "            price_string=price.get_text(strip=True)\n",
        "        else:\n",
        "            price_string=\"\"\n",
        "    except AttributeError:\n",
        "        price_string=\"\"\n",
        "    return price_string\n",
        "# Function to extract Product Rating\n",
        "def get_rating(soup):\n",
        "    try:\n",
        "        rating=soup.find(\"span\",attrs={\"class\":\"a-icon-alt\"})\n",
        "        if rating is not None:\n",
        "            rating_string=rating.get_text(strip=True)\n",
        "        else:\n",
        "            rating_string=\"\"\n",
        "    except AttributeError:\n",
        "        rating_string=\"\"\n",
        "    return rating_string\n",
        "# Function to extract Number of User Reviews\n",
        "def get_review_count(soup):\n",
        "    try:\n",
        "        review_count=soup.find(\"span\",attrs={\"id\":\"acrCustomerReviewText\"})\n",
        "        if review_count is not None:\n",
        "            review_count_string=review_count.get_text(strip=True)\n",
        "        else:\n",
        "            review_count_string=\"\"\n",
        "    except AttributeError:\n",
        "        review_count_string=\"\"\n",
        "    return review_count_string\n",
        "# Function to extract Availability Status\n",
        "def get_availability(soup):\n",
        "    try:\n",
        "        availability=soup.find(\"div\",attrs={\"id\":\"availability\"})\n",
        "        if availability is not None:\n",
        "            availability_string=availability.get_text(strip=True)\n",
        "        else:\n",
        "            availability_string=\"\"\n",
        "    except AttributeError:\n",
        "        availability_string=\"\"\n",
        "    return availability_string\n",
        "\n",
        "if __name__==\"__main__\":\n",
        "    #     headers for request\n",
        "    headers={\n",
        "        \"User-Agent\":\"Mozilla/5.0 (X11; Linux x86_64) AppleWebKit/537.36 (KHTML, like Gecko) Chrome/58.0.3029.110 Safari/537.36\",\n",
        "        \"Accept-Language\":\"en-US,en;q=0.5\"\n",
        "    }\n",
        "    url=\"https://www.amazon.in/Fossil-Bronson-Analog-Black-Watch-ME3218/dp/B09SHQSHBF/ref=sr_1_2_sspa?sr=8-2-spons&sp_csd=d2lkZ2V0TmFtZT1zcF9hdGY&psc=1\"\n",
        "#   Http Request\n",
        "    webpage=requests.get(url, headers=headers)\n",
        "#     Soup Object containing all data\n",
        "    soup=BeautifulSoup(webpage.content,\"html.parser\")\n",
        "    #Function calls to display all necessary product information\n",
        "    print(\"Product Title=\",get_title(soup))\n",
        "    print(\"Product Price=\", get_price(soup))\n",
        "    print(\"Product Rating=\",get_rating(soup))\n",
        "    print(\"Number of Product reviews=\",get_review_count(soup))\n",
        "    print(\"Availabiity=\",get_availability(soup))\n",
        "\n",
        "\n",
        "\n"
      ]
    }
  ]
}